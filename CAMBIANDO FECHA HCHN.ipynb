{
 "cells": [
  {
   "cell_type": "code",
   "execution_count": 178,
   "metadata": {},
   "outputs": [],
   "source": [
    "import pandas as pd\n",
    "import os.path"
   ]
  },
  {
   "cell_type": "code",
   "execution_count": 179,
   "metadata": {},
   "outputs": [],
   "source": [
    "\n",
    "data1 = pd.read_excel(os.path.abspath(\".\\inputs\\ARSE TRIPLE SSS HCHN 6-JULIO-2020.xlsx\"), sheet_name=\"Sheet1\")\n",
    "\n"
   ]
  },
  {
   "cell_type": "code",
   "execution_count": 180,
   "metadata": {
    "scrolled": true
   },
   "outputs": [],
   "source": [
    "data1 [\"Fecha-de-Encuentro\"] = data1 [\"Fecha-de-Encuentro\"].str.replace(\"-enero-\", \"/01/\")\n"
   ]
  },
  {
   "cell_type": "code",
   "execution_count": 181,
   "metadata": {},
   "outputs": [],
   "source": [
    "data1 [\"Fecha-de-Encuentro\"] = data1 [\"Fecha-de-Encuentro\"].str.replace(\"-febrero-\", \"/02/\")\n"
   ]
  },
  {
   "cell_type": "code",
   "execution_count": 182,
   "metadata": {},
   "outputs": [],
   "source": [
    "data1 [\"Fecha-de-Encuentro\"] = data1 [\"Fecha-de-Encuentro\"].str.replace(\"-marzo-\", \"/03/\")"
   ]
  },
  {
   "cell_type": "code",
   "execution_count": 183,
   "metadata": {},
   "outputs": [],
   "source": [
    "data1 [\"Fecha-de-Encuentro\"] = data1 [\"Fecha-de-Encuentro\"].str.replace(\"-abril-\", \"/04/\")"
   ]
  },
  {
   "cell_type": "code",
   "execution_count": 184,
   "metadata": {},
   "outputs": [],
   "source": [
    "data1 [\"Fecha-de-Encuentro\"] = data1 [\"Fecha-de-Encuentro\"].str.replace(\"-mayo-\", \"/05/\")"
   ]
  },
  {
   "cell_type": "code",
   "execution_count": 185,
   "metadata": {},
   "outputs": [],
   "source": [
    "data1 [\"Fecha-de-Encuentro\"] = data1 [\"Fecha-de-Encuentro\"].str.replace(\"-junio-\", \"/06/\")"
   ]
  },
  {
   "cell_type": "code",
   "execution_count": 186,
   "metadata": {},
   "outputs": [],
   "source": [
    "data1 [\"Fecha-de-Encuentro\"] = data1 [\"Fecha-de-Encuentro\"].str.replace(\"-julio-\", \"/07/\")"
   ]
  },
  {
   "cell_type": "code",
   "execution_count": 187,
   "metadata": {},
   "outputs": [],
   "source": [
    "data1 [\"Fecha-de-Encuentro\"] = data1 [\"Fecha-de-Encuentro\"].str.replace(\"-agosto-\", \"/08/\")"
   ]
  },
  {
   "cell_type": "code",
   "execution_count": 188,
   "metadata": {},
   "outputs": [],
   "source": [
    "data1 [\"Fecha-de-Encuentro\"] = data1 [\"Fecha-de-Encuentro\"].str.replace(\"-septiembre-\", \"/09/\")"
   ]
  },
  {
   "cell_type": "code",
   "execution_count": 189,
   "metadata": {},
   "outputs": [],
   "source": [
    "data1 [\"Fecha-de-Encuentro\"] = data1 [\"Fecha-de-Encuentro\"].str.replace(\"-octubre-\", \"/10/\")"
   ]
  },
  {
   "cell_type": "code",
   "execution_count": 190,
   "metadata": {},
   "outputs": [],
   "source": [
    "data1 [\"Fecha-de-Encuentro\"] = data1 [\"Fecha-de-Encuentro\"].str.replace(\"-noviembre-\", \"/11/\")"
   ]
  },
  {
   "cell_type": "code",
   "execution_count": 191,
   "metadata": {},
   "outputs": [],
   "source": [
    "data1 [\"Fecha-de-Encuentro\"] = data1 [\"Fecha-de-Encuentro\"].str.replace(\"-diciembre-\", \"/12/\")"
   ]
  },
  {
   "cell_type": "code",
   "execution_count": 192,
   "metadata": {},
   "outputs": [],
   "source": [
    "data1 [\"Fecha-de-Encuentro\"] = data1 [\"Fecha-de-Encuentro\"].str.replace(\"enero-\", \"/01/\")\n"
   ]
  },
  {
   "cell_type": "code",
   "execution_count": 193,
   "metadata": {},
   "outputs": [],
   "source": [
    "data1 [\"Fecha-de-Encuentro\"] = data1 [\"Fecha-de-Encuentro\"].str.replace(\"mayo-\", \"/05/\")"
   ]
  },
  {
   "cell_type": "code",
   "execution_count": 194,
   "metadata": {},
   "outputs": [],
   "source": [
    "data1 [\"Fecha-de-Encuentro\"] = data1 [\"Fecha-de-Encuentro\"].str.replace(\"junio-\", \"/06/\")"
   ]
  },
  {
   "cell_type": "code",
   "execution_count": 195,
   "metadata": {},
   "outputs": [],
   "source": [
    "data1 [\"Fecha-de-Encuentro\"] = data1 [\"Fecha-de-Encuentro\"].str.replace(\"-JUNIO-\", \"/06/\")"
   ]
  },
  {
   "cell_type": "code",
   "execution_count": 196,
   "metadata": {},
   "outputs": [],
   "source": [
    "data1.to_excel(os.path.abspath(\"./outputs\\probandoebh.xlsx\"), sheet_name=\"HOJA1\")"
   ]
  },
  {
   "cell_type": "code",
   "execution_count": null,
   "metadata": {},
   "outputs": [],
   "source": []
  }
 ],
 "metadata": {
  "kernelspec": {
   "display_name": "Python 3",
   "language": "python",
   "name": "python3"
  },
  "language_info": {
   "codemirror_mode": {
    "name": "ipython",
    "version": 3
   },
   "file_extension": ".py",
   "mimetype": "text/x-python",
   "name": "python",
   "nbconvert_exporter": "python",
   "pygments_lexer": "ipython3",
   "version": "3.7.6"
  }
 },
 "nbformat": 4,
 "nbformat_minor": 4
}
