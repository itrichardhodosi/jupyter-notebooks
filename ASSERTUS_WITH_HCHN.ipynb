{
 "cells": [
  {
   "cell_type": "code",
   "execution_count": 113,
   "metadata": {},
   "outputs": [],
   "source": [
    "import pandas as pd\n",
    "import os.path"
   ]
  },
  {
   "cell_type": "code",
   "execution_count": 114,
   "metadata": {},
   "outputs": [],
   "source": [
    "hchn = pd.read_excel (os.path.abspath (\"./inputs/HCHN ICD-10 Diagnoses.xlsx\"), sheet_name = \"HCHN Diagnoses\") "
   ]
  },
  {
   "cell_type": "code",
   "execution_count": 115,
   "metadata": {
    "scrolled": true
   },
   "outputs": [],
   "source": [
    "lista_hchn = hchn.Dx.unique()\n",
    "pd.options.display.max_columns = 80\n",
    "pd.options.display.max_rows = 5"
   ]
  },
  {
   "cell_type": "code",
   "execution_count": 116,
   "metadata": {},
   "outputs": [
    {
     "data": {
      "text/html": [
       "<div>\n",
       "<style scoped>\n",
       "    .dataframe tbody tr th:only-of-type {\n",
       "        vertical-align: middle;\n",
       "    }\n",
       "\n",
       "    .dataframe tbody tr th {\n",
       "        vertical-align: top;\n",
       "    }\n",
       "\n",
       "    .dataframe thead th {\n",
       "        text-align: right;\n",
       "    }\n",
       "</style>\n",
       "<table border=\"1\" class=\"dataframe\">\n",
       "  <thead>\n",
       "    <tr style=\"text-align: right;\">\n",
       "      <th></th>\n",
       "      <th>sCardContractNo</th>\n",
       "      <th>dDateFrom</th>\n",
       "      <th>Dx1</th>\n",
       "      <th>Dx2</th>\n",
       "      <th>Dx3</th>\n",
       "      <th>Dx4</th>\n",
       "      <th>Dx5</th>\n",
       "      <th>Dx6</th>\n",
       "      <th>Dx7</th>\n",
       "      <th>Dx8</th>\n",
       "      <th>Dx9</th>\n",
       "      <th>Dx10</th>\n",
       "      <th>Dx11</th>\n",
       "      <th>Dx12</th>\n",
       "      <th>sProcedureCode</th>\n",
       "      <th>sInsuranceNo</th>\n",
       "    </tr>\n",
       "  </thead>\n",
       "  <tbody>\n",
       "    <tr>\n",
       "      <th>0</th>\n",
       "      <td>80002626754</td>\n",
       "      <td>2020-02-10 08:39:10</td>\n",
       "      <td>Z71.3</td>\n",
       "      <td>Z68.34</td>\n",
       "      <td>NaN</td>\n",
       "      <td>NaN</td>\n",
       "      <td>NaN</td>\n",
       "      <td>NaN</td>\n",
       "      <td>NaN</td>\n",
       "      <td>NaN</td>\n",
       "      <td>NaN</td>\n",
       "      <td>NaN</td>\n",
       "      <td>NaN</td>\n",
       "      <td>NaN</td>\n",
       "      <td>99203</td>\n",
       "      <td>FIRST MEDICAL</td>\n",
       "    </tr>\n",
       "    <tr>\n",
       "      <th>1</th>\n",
       "      <td>80005643134</td>\n",
       "      <td>2020-02-11 15:30:39</td>\n",
       "      <td>I11.9</td>\n",
       "      <td>E78.5</td>\n",
       "      <td>Z71.3</td>\n",
       "      <td>Z00.00</td>\n",
       "      <td>I50.1</td>\n",
       "      <td>NaN</td>\n",
       "      <td>NaN</td>\n",
       "      <td>NaN</td>\n",
       "      <td>NaN</td>\n",
       "      <td>NaN</td>\n",
       "      <td>NaN</td>\n",
       "      <td>NaN</td>\n",
       "      <td>99213</td>\n",
       "      <td>FIRST MEDICAL</td>\n",
       "    </tr>\n",
       "    <tr>\n",
       "      <th>2</th>\n",
       "      <td>80024967779</td>\n",
       "      <td>2020-02-19 15:30:39</td>\n",
       "      <td>K42.9</td>\n",
       "      <td>NaN</td>\n",
       "      <td>NaN</td>\n",
       "      <td>NaN</td>\n",
       "      <td>NaN</td>\n",
       "      <td>NaN</td>\n",
       "      <td>NaN</td>\n",
       "      <td>NaN</td>\n",
       "      <td>NaN</td>\n",
       "      <td>NaN</td>\n",
       "      <td>NaN</td>\n",
       "      <td>NaN</td>\n",
       "      <td>99213</td>\n",
       "      <td>FIRST MEDICAL</td>\n",
       "    </tr>\n",
       "    <tr>\n",
       "      <th>3</th>\n",
       "      <td>80005557050</td>\n",
       "      <td>2020-02-10 08:15:59</td>\n",
       "      <td>Z02.89</td>\n",
       "      <td>NaN</td>\n",
       "      <td>NaN</td>\n",
       "      <td>NaN</td>\n",
       "      <td>NaN</td>\n",
       "      <td>NaN</td>\n",
       "      <td>NaN</td>\n",
       "      <td>NaN</td>\n",
       "      <td>NaN</td>\n",
       "      <td>NaN</td>\n",
       "      <td>NaN</td>\n",
       "      <td>NaN</td>\n",
       "      <td>99213</td>\n",
       "      <td>FIRST MEDICAL</td>\n",
       "    </tr>\n",
       "    <tr>\n",
       "      <th>4</th>\n",
       "      <td>80002626754</td>\n",
       "      <td>2020-02-20 08:15:59</td>\n",
       "      <td>I70.0</td>\n",
       "      <td>E11.69</td>\n",
       "      <td>E78.2</td>\n",
       "      <td>I11.9</td>\n",
       "      <td>E66.9</td>\n",
       "      <td>Z68.33</td>\n",
       "      <td>NaN</td>\n",
       "      <td>NaN</td>\n",
       "      <td>NaN</td>\n",
       "      <td>NaN</td>\n",
       "      <td>NaN</td>\n",
       "      <td>NaN</td>\n",
       "      <td>99213</td>\n",
       "      <td>FIRST MEDICAL</td>\n",
       "    </tr>\n",
       "  </tbody>\n",
       "</table>\n",
       "</div>"
      ],
      "text/plain": [
       "  sCardContractNo           dDateFrom     Dx1     Dx2    Dx3     Dx4    Dx5  \\\n",
       "0     80002626754 2020-02-10 08:39:10   Z71.3  Z68.34    NaN     NaN    NaN   \n",
       "1     80005643134 2020-02-11 15:30:39   I11.9   E78.5  Z71.3  Z00.00  I50.1   \n",
       "2     80024967779 2020-02-19 15:30:39   K42.9     NaN    NaN     NaN    NaN   \n",
       "3     80005557050 2020-02-10 08:15:59  Z02.89     NaN    NaN     NaN    NaN   \n",
       "4     80002626754 2020-02-20 08:15:59   I70.0  E11.69  E78.2   I11.9  E66.9   \n",
       "\n",
       "      Dx6  Dx7  Dx8  Dx9 Dx10 Dx11 Dx12  sProcedureCode   sInsuranceNo  \n",
       "0     NaN  NaN  NaN  NaN  NaN  NaN  NaN           99203  FIRST MEDICAL  \n",
       "1     NaN  NaN  NaN  NaN  NaN  NaN  NaN           99213  FIRST MEDICAL  \n",
       "2     NaN  NaN  NaN  NaN  NaN  NaN  NaN           99213  FIRST MEDICAL  \n",
       "3     NaN  NaN  NaN  NaN  NaN  NaN  NaN           99213  FIRST MEDICAL  \n",
       "4  Z68.33  NaN  NaN  NaN  NaN  NaN  NaN           99213  FIRST MEDICAL  "
      ]
     },
     "execution_count": 116,
     "metadata": {},
     "output_type": "execute_result"
    }
   ],
   "source": [
    "assertus_report = pd.read_excel (os.path.abspath (\"./inputs/assertus_report_cpt.xlsx\"), sheet_name = \"Sheet1\") \n",
    "\n",
    "assertus_report = assertus_report[assertus_report[\"InsName\"] != \"APS HEALTHCARE PUERTO RICO INC\"] \n",
    "assertus_report = assertus_report [[ \"sCardContractNo\", \"dDateFrom\", \"Dx1\", \"Dx2\", \"Dx3\", \"Dx4\", \"Dx5\", \"Dx6\", \"Dx7\", \"Dx8\", \"Dx9\", \"Dx10\", \"Dx11\", \"Dx12\",\"sProcedureCode\", \"sInsuranceNo\"]]\n",
    "assertus_report.head()"
   ]
  },
  {
   "cell_type": "code",
   "execution_count": 117,
   "metadata": {},
   "outputs": [],
   "source": [
    "assertus_report[\"is_HCHN\"] = (assertus_report[\"Dx1\"].isin(lista_hchn)) | (assertus_report[\"Dx2\"].isin(lista_hchn)) | (assertus_report[\"Dx3\"].isin(lista_hchn)) | (assertus_report[\"Dx4\"].isin(lista_hchn)) | (assertus_report[\"Dx5\"].isin(lista_hchn)) | (assertus_report[\"Dx6\"].isin(lista_hchn)) | (assertus_report[\"Dx7\"].isin(lista_hchn)) | (assertus_report[\"Dx8\"].isin(lista_hchn)) | (assertus_report[\"Dx9\"].isin(lista_hchn)) | (assertus_report[\"Dx10\"].isin(lista_hchn)) | (assertus_report[\"Dx11\"].isin(lista_hchn)) | (assertus_report[\"Dx12\"].isin(lista_hchn))"
   ]
  },
  {
   "cell_type": "code",
   "execution_count": 118,
   "metadata": {},
   "outputs": [],
   "source": [
    "assertus_report = assertus_report[assertus_report[\"is_HCHN\"]]\n",
    "assertus_report[\"orden\"] = assertus_report.groupby(\"sCardContractNo\")[\"dDateFrom\"].rank(method=\"dense\", ascending=False).astype(int)"
   ]
  },
  {
   "cell_type": "code",
   "execution_count": 119,
   "metadata": {},
   "outputs": [
    {
     "data": {
      "text/html": [
       "<div>\n",
       "<style scoped>\n",
       "    .dataframe tbody tr th:only-of-type {\n",
       "        vertical-align: middle;\n",
       "    }\n",
       "\n",
       "    .dataframe tbody tr th {\n",
       "        vertical-align: top;\n",
       "    }\n",
       "\n",
       "    .dataframe thead th {\n",
       "        text-align: right;\n",
       "    }\n",
       "</style>\n",
       "<table border=\"1\" class=\"dataframe\">\n",
       "  <thead>\n",
       "    <tr style=\"text-align: right;\">\n",
       "      <th></th>\n",
       "      <th>sCardContractNo</th>\n",
       "      <th>dDateFrom</th>\n",
       "    </tr>\n",
       "  </thead>\n",
       "  <tbody>\n",
       "  </tbody>\n",
       "</table>\n",
       "</div>"
      ],
      "text/plain": [
       "Empty DataFrame\n",
       "Columns: [sCardContractNo, dDateFrom]\n",
       "Index: []"
      ]
     },
     "execution_count": 119,
     "metadata": {},
     "output_type": "execute_result"
    }
   ],
   "source": [
    "assertus_report = assertus_report[assertus_report[\"orden\"] == 1]\n",
    "assertus_report[assertus_report.columns[:2]][ assertus_report[\"sCardContractNo\"] == 80000043528 ]"
   ]
  },
  {
   "cell_type": "code",
   "execution_count": 120,
   "metadata": {},
   "outputs": [],
   "source": [
    "assertus_report.to_excel(\"outputs\\hola.xlsx\", index=False)\n"
   ]
  },
  {
   "cell_type": "code",
   "execution_count": null,
   "metadata": {},
   "outputs": [],
   "source": []
  }
 ],
 "metadata": {
  "kernelspec": {
   "display_name": "Python 3",
   "language": "python",
   "name": "python3"
  },
  "language_info": {
   "codemirror_mode": {
    "name": "ipython",
    "version": 3
   },
   "file_extension": ".py",
   "mimetype": "text/x-python",
   "name": "python",
   "nbconvert_exporter": "python",
   "pygments_lexer": "ipython3",
   "version": "3.7.6"
  }
 },
 "nbformat": 4,
 "nbformat_minor": 4
}
